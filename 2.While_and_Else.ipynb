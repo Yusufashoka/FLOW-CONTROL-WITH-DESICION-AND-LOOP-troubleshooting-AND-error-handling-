{
  "nbformat": 4,
  "nbformat_minor": 0,
  "metadata": {
    "colab": {
      "name": "5. Else_After_While_In Python.ipynb",
      "provenance": []
    },
    "kernelspec": {
      "name": "python3",
      "display_name": "Python 3"
    },
    "language_info": {
      "name": "python"
    }
  },
  "cells": [
    {
      "cell_type": "markdown",
      "source": [
        "#While\n",
        "A while loop will run a piece of code while a condition is True. It will keep executing the desired set of code statements until that condition is no longer True."
      ],
      "metadata": {
        "id": "gG6J9L_C86px"
      }
    },
    {
      "cell_type": "code",
      "source": [
        "number = int(input())\n",
        "\n",
        "while (number < 5):\n",
        "  print(\"the number is {}\". format(number))\n",
        "  number = number+1"
      ],
      "metadata": {
        "colab": {
          "base_uri": "https://localhost:8080/"
        },
        "id": "6hpSRFIp9sFP",
        "outputId": "301d5645-fe8d-4e8c-e1ec-40294c55ad0f"
      },
      "execution_count": 3,
      "outputs": [
        {
          "output_type": "stream",
          "name": "stdout",
          "text": [
            "0\n",
            "the number is 0\n",
            "the number is 1\n",
            "the number is 2\n",
            "the number is 3\n",
            "the number is 4\n"
          ]
        }
      ]
    },
    {
      "cell_type": "code",
      "source": [
        "# To take input from the user,\n",
        "n = int(input(\"Enter n: \"))\n",
        "\n",
        "# initialize sum and counter\n",
        "sum = 0 # sum = 1+2+3+...+n\n",
        "i = 1\n",
        "\n",
        "while i <= n:\n",
        "    sum = sum + i\n",
        "    i = i+1    # update counter\n",
        "\n",
        "# print the sum\n",
        "print(\"The sum is\", sum)"
      ],
      "metadata": {
        "colab": {
          "base_uri": "https://localhost:8080/"
        },
        "id": "4yF9_OJQ-dt4",
        "outputId": "f92ab9b2-5695-47a4-8a52-cbfb8d689f3d"
      },
      "execution_count": 2,
      "outputs": [
        {
          "output_type": "stream",
          "name": "stdout",
          "text": [
            "Enter n: 9\n",
            "The sum is 45\n"
          ]
        }
      ]
    },
    {
      "cell_type": "markdown",
      "source": [
        "#Else After While\n",
        "In the while statement, the else statement block will always be executed when the while condition is false"
      ],
      "metadata": {
        "id": "xbpeK9LrnMQZ"
      }
    },
    {
      "cell_type": "code",
      "source": [
        "number = int(input())\n",
        "\n",
        "while (number <10):\n",
        "  number = number + 2\n",
        "  if number == 6:\n",
        "    break\n",
        "    print(number)\n",
        "else:\n",
        "    print(\"loop has been completed\")"
      ],
      "metadata": {
        "colab": {
          "base_uri": "https://localhost:8080/"
        },
        "id": "bKvSFq1TqKE4",
        "outputId": "7a6b49a6-ed24-4aa8-ba5c-ba1848ffb2db"
      },
      "execution_count": null,
      "outputs": [
        {
          "output_type": "stream",
          "name": "stdout",
          "text": [
            "9\n",
            "loop has been completed\n"
          ]
        }
      ]
    },
    {
      "cell_type": "code",
      "source": [
        "number = int(input())\n",
        "\n",
        "while (number <10):\n",
        "  number = number + 2\n",
        "  if number == 6:\n",
        "    break\n",
        "    print(number)"
      ],
      "metadata": {
        "colab": {
          "base_uri": "https://localhost:8080/"
        },
        "id": "9x649NxTSyYL",
        "outputId": "b69733a9-bedd-428b-a367-33eb34aa450e"
      },
      "execution_count": null,
      "outputs": [
        {
          "name": "stdout",
          "output_type": "stream",
          "text": [
            "9\n"
          ]
        }
      ]
    },
    {
      "cell_type": "code",
      "source": [
        "number = int(input())\n",
        "\n",
        "while (number > 0):\n",
        "  number = number - 2\n",
        "  print(number)\n",
        "else:\n",
        "    print(\"loop has been completed\")"
      ],
      "metadata": {
        "colab": {
          "base_uri": "https://localhost:8080/"
        },
        "id": "ec9H51EaUExS",
        "outputId": "8b7efe55-f4e5-4034-d1b4-1402f4c68e77"
      },
      "execution_count": null,
      "outputs": [
        {
          "output_type": "stream",
          "name": "stdout",
          "text": [
            "10\n",
            "8\n",
            "6\n",
            "4\n",
            "2\n",
            "0\n",
            "loop telah selesai\n"
          ]
        }
      ]
    },
    {
      "cell_type": "code",
      "source": [
        "number = int(input())\n",
        "\n",
        "while (number< 15):\n",
        "    number+=2 \n",
        "    print(number)\n",
        "else:\n",
        "    print(\"loop has been completed\")"
      ],
      "metadata": {
        "colab": {
          "base_uri": "https://localhost:8080/"
        },
        "id": "1YFsv5lysOuA",
        "outputId": "62d92060-783a-4571-85c8-0c2b3fcadbc4"
      },
      "execution_count": null,
      "outputs": [
        {
          "output_type": "stream",
          "name": "stdout",
          "text": [
            "5\n",
            "7\n",
            "9\n",
            "11\n",
            "13\n",
            "15\n",
            "loop telah selesai\n"
          ]
        }
      ]
    }
  ]
}