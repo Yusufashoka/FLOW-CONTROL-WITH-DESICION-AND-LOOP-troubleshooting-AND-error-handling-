{
  "nbformat": 4,
  "nbformat_minor": 0,
  "metadata": {
    "colab": {
      "name": "Pass_materi 10 .ipynb",
      "provenance": []
    },
    "kernelspec": {
      "name": "python3",
      "display_name": "Python 3"
    },
    "language_info": {
      "name": "python"
    }
  },
  "cells": [
    {
      "cell_type": "markdown",
      "source": [
        "#Pass\n",
        "pass is used if you want a statement or block of statements (statements), but do not continue anything-continue execution in order\n",
        "\n",
        "\n",
        "This control is mostly used when we haven't implemented (or prepared a place for implementation), and let the program continue to run when for example we experience a failure or exception.\n",
        "\n",
        "Pass Statement is a Null (empty) operation, nothing happens when it is called\n"
      ],
      "metadata": {
        "id": "iTGRpYzrk3Fe"
      }
    },
    {
      "cell_type": "code",
      "execution_count": 8,
      "metadata": {
        "colab": {
          "base_uri": "https://localhost:8080/",
          "height": 252
        },
        "id": "i02_nSb_7abC",
        "outputId": "139e0c93-4c36-4891-bfa5-3961105ec76e"
      },
      "outputs": [
        {
          "name": "stdout",
          "output_type": "stream",
          "text": [
            "obtained:1\n",
            "get numbers 1\n",
            "obtained:comments\n"
          ]
        },
        {
          "output_type": "error",
          "ename": "ValueError",
          "evalue": "ignored",
          "traceback": [
            "\u001b[0;31m---------------------------------------------------------------------------\u001b[0m",
            "\u001b[0;31mValueError\u001b[0m                                Traceback (most recent call last)",
            "\u001b[0;32m<ipython-input-8-8bad7fde7ab4>\u001b[0m in \u001b[0;36m<module>\u001b[0;34m()\u001b[0m\n\u001b[1;32m      2\u001b[0m \u001b[0;32mwhile\u001b[0m\u001b[0;34m(\u001b[0m\u001b[0mf\u001b[0m\u001b[0;34m!=\u001b[0m\u001b[0;34m\"comments\"\u001b[0m\u001b[0;34m)\u001b[0m\u001b[0;34m:\u001b[0m\u001b[0;34m\u001b[0m\u001b[0;34m\u001b[0m\u001b[0m\n\u001b[1;32m      3\u001b[0m   \u001b[0mf\u001b[0m \u001b[0;34m=\u001b[0m \u001b[0;34m(\u001b[0m\u001b[0minput\u001b[0m\u001b[0;34m(\u001b[0m\u001b[0;34m\"obtained:\"\u001b[0m\u001b[0;34m)\u001b[0m\u001b[0;34m)\u001b[0m\u001b[0;34m\u001b[0m\u001b[0;34m\u001b[0m\u001b[0m\n\u001b[0;32m----> 4\u001b[0;31m   \u001b[0mprint\u001b[0m\u001b[0;34m(\u001b[0m\u001b[0;34m'get numbers {}'\u001b[0m\u001b[0;34m.\u001b[0m \u001b[0mformat\u001b[0m\u001b[0;34m(\u001b[0m\u001b[0mint\u001b[0m\u001b[0;34m(\u001b[0m\u001b[0mf\u001b[0m\u001b[0;34m)\u001b[0m\u001b[0;34m)\u001b[0m\u001b[0;34m)\u001b[0m\u001b[0;34m\u001b[0m\u001b[0;34m\u001b[0m\u001b[0m\n\u001b[0m",
            "\u001b[0;31mValueError\u001b[0m: invalid literal for int() with base 10: 'comments'"
          ]
        }
      ],
      "source": [
        "f =\"\"\n",
        "while(f!=\"comments\"):\n",
        "  f = (input(\"obtained:\"))\n",
        "  print('get numbers {}'. format(int(f)))"
      ]
    },
    {
      "cell_type": "code",
      "source": [
        "import sys\n",
        "m = ''\n",
        "while (m !=\"comments\"):\n",
        "  try:\n",
        "    m =(input(\"obtained:\"))\n",
        "    print('get numbers{}'.format(int(m)))\n",
        "  except:\n",
        "    if m =='exit':\n",
        "      pass\n",
        "    else:\n",
        "      print('get error{}'.format(sys.exc_info()[0]))"
      ],
      "metadata": {
        "colab": {
          "base_uri": "https://localhost:8080/"
        },
        "id": "T_cRKWru7elj",
        "outputId": "093c3933-5c18-40e0-fdff-300edf7928a4"
      },
      "execution_count": 9,
      "outputs": [
        {
          "output_type": "stream",
          "name": "stdout",
          "text": [
            "obtained:1\n",
            "get numbers1\n",
            "obtained:comments\n",
            "get error<class 'ValueError'>\n"
          ]
        }
      ]
    },
    {
      "cell_type": "code",
      "source": [
        "import sys\n",
        "n = ''\n",
        "while (n !=\"exit\"):\n",
        "  try:\n",
        "    n =(input(\"peroleh:\"))\n",
        "    print('dapat angka{}'.format(int(n)))\n",
        "  except:\n",
        "    if n =='exit':\n",
        "      pass\n",
        "    else:\n",
        "      print('dapat error{}'.format(sys.exc_info()[0]))"
      ],
      "metadata": {
        "colab": {
          "base_uri": "https://localhost:8080/"
        },
        "id": "rqjtzeQT8PRy",
        "outputId": "d60ca4ed-cbff-4b58-e735-0379c64ad3c7"
      },
      "execution_count": null,
      "outputs": [
        {
          "name": "stdout",
          "output_type": "stream",
          "text": [
            "peroleh:2\n",
            "dapat angka2\n",
            "peroleh:4\n",
            "dapat angka4\n",
            "peroleh:6\n",
            "dapat angka6\n",
            "peroleh:8\n",
            "dapat angka8\n",
            "peroleh:10\n",
            "dapat angka10\n",
            "peroleh:muhammad fadhiil yusuf\n",
            "dapat error<class 'ValueError'>\n",
            "peroleh:12\n",
            "dapat angka12\n",
            "peroleh:14\n",
            "dapat angka14\n",
            "peroleh:16\n",
            "dapat angka16\n",
            "peroleh:18\n",
            "dapat angka18\n",
            "peroleh:20\n",
            "dapat angka20\n",
            "peroleh:exit\n"
          ]
        }
      ]
    }
  ]
}